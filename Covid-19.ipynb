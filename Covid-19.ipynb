{
 "cells": [
  {
   "cell_type": "code",
   "execution_count": 2,
   "metadata": {},
   "outputs": [],
   "source": [
    "import numpy as np\n",
    "import pandas as pd\n",
    "\n",
    "train = pd.read_csv('train.csv',parse_dates=[\"Date\"])\n",
    "test = pd.read_csv('test.csv',parse_dates=[\"Date\"])"
   ]
  },
  {
   "cell_type": "code",
   "execution_count": 3,
   "metadata": {},
   "outputs": [],
   "source": [
    "# Rename variables\n",
    "train.rename(columns = {'Country_Region':'Country','Province_State':'State'},inplace=True)\n",
    "test.rename(columns = {'Country_Region':'Country','Province_State':'State'},inplace=True)\n",
    "\n",
    "# Encoding country feature\n",
    "from sklearn.preprocessing import LabelEncoder\n",
    "labelencoder = LabelEncoder()\n",
    "train['Country'] = labelencoder.fit_transform(train['Country'])\n",
    "test['Country'] = labelencoder.fit_transform(test['Country'])\n",
    "\n",
    "# Extracting features from Date feature\n",
    "train['Dayofyear'] = train['Date'].dt.dayofyear\n",
    "train['Dayofweek'] = train['Date'].dt.dayofweek\n",
    "train['Weekofyear'] = train['Date'].dt.weekofyear\n",
    "train['Month'] = train['Date'].dt.month\n",
    "train['Dayofmonth'] = train['Date'].dt.day\n",
    "\n",
    "test['Dayofyear'] = test['Date'].dt.dayofyear\n",
    "test['Dayofweek'] = test['Date'].dt.dayofweek\n",
    "test['Weekofyear'] = test['Date'].dt.weekofyear\n",
    "test['Month'] = test['Date'].dt.month\n",
    "test['Dayofmonth'] = test['Date'].dt.day\n",
    "\n",
    "train1 = train[train['State'].isna()==True][:]\n",
    "test1 = test[test['State'].isna()==True][:]\n",
    "\n",
    "train1.drop('State',axis=1, inplace=True)\n",
    "test1.drop('State',axis=1, inplace=True)\n",
    "\n",
    "x = train1[[\"Country\", \"Dayofyear\", \"Dayofweek\",\"Weekofyear\",\"Month\",\"Dayofmonth\"]]\n",
    "y = train1[[\"ConfirmedCases\", \"Fatalities\"]]\n",
    "from sklearn.tree import DecisionTreeRegressor\n",
    "regressor1_1 = DecisionTreeRegressor(random_state = 0)\n",
    "regressor1_1.fit(x ,y[\"ConfirmedCases\"])\n",
    "x = x.assign(ConfirmedCaseshat = np.array(regressor1_1.predict(x))) \n",
    "from sklearn.tree import DecisionTreeClassifier\n",
    "regressor1_2 = DecisionTreeClassifier(random_state = 0)\n",
    "regressor1_2.fit(x ,y[\"Fatalities\"])\n",
    "test_x_1 = test1[[\"Country\", \"Dayofyear\", \"Dayofweek\",\"Weekofyear\",\"Month\",\"Dayofmonth\"]]\n",
    "cases_predict = regressor1_1.predict(test_x_1)\n",
    "test_x_1 = test_x_1.assign(ConfirmedCaseshat = np.array(cases_predict))\n",
    "fat_predict = regressor1_2.predict(test_x_1)\n",
    "ConfirmedCases = pd.DataFrame(cases_predict.astype(int))\n",
    "Fatalities = pd.DataFrame(fat_predict.astype(int))\n",
    "test1 = test1.assign(ConfirmedCases = np.array(ConfirmedCases))\n",
    "test1 = test1.assign(Fatalities = np.array(Fatalities))"
   ]
  },
  {
   "cell_type": "code",
   "execution_count": 4,
   "metadata": {},
   "outputs": [],
   "source": [
    "train2 = train[train['State'].isna()==False][:]\n",
    "test2 = test[test['State'].isna()==False][:]\n",
    "from sklearn.preprocessing import LabelEncoder\n",
    "labelencoder1 = LabelEncoder()\n",
    "train2['State'] = labelencoder1.fit_transform(train2['State'])\n",
    "test2['State'] = labelencoder1.fit_transform(test2['State'])\n",
    "x = train2[[\"State\",\"Country\", \"Dayofyear\", \"Dayofweek\",\"Weekofyear\",\"Month\",\"Dayofmonth\"]]\n",
    "y = train2[[\"ConfirmedCases\", \"Fatalities\"]]"
   ]
  },
  {
   "cell_type": "code",
   "execution_count": null,
   "metadata": {},
   "outputs": [],
   "source": [
    "from sklearn.tree import DecisionTreeRegressor\n",
    "regressor2_1 = DecisionTreeRegressor(random_state = 0)\n",
    "regressor2_1.fit(x ,y[\"ConfirmedCases\"])\n",
    "x = x.assign(ConfirmedCaseshat = np.array(regressor2_1.predict(x))) \n",
    "from sklearn.tree import DecisionTreeClassifier\n",
    "regressor2_2 =  DecisionTreeClassifier(random_state = 0)\n",
    "regressor2_2.fit(x ,y[\"Fatalities\"])\n",
    "test_x_2 = test2[[\"State\",\"Country\", \"Dayofyear\", \"Dayofweek\",\"Weekofyear\",\"Month\",\"Dayofmonth\"]]\n",
    "cases_predict = regressor2_1.predict(test_x_2)\n",
    "test_x_2 = test_x_2.assign(ConfirmedCaseshat = np.array(cases_predict))\n",
    "fat_predict = regressor2_2.predict(test_x_2)\n",
    "ConfirmedCases = pd.DataFrame(cases_predict.astype(int))\n",
    "Fatalities = pd.DataFrame(fat_predict.astype(int))\n",
    "test2 = test2.assign(ConfirmedCases = np.array(ConfirmedCases))\n",
    "test2 = test2.assign(Fatalities = np.array(Fatalities))"
   ]
  },
  {
   "cell_type": "code",
   "execution_count": 5,
   "metadata": {},
   "outputs": [],
   "source": [
    "result = test1.append(test2,sort='ForecastId')\n",
    "result.sort_values(by=['ForecastId'],inplace=True)\n",
    "submission = result[['ForecastId','ConfirmedCases','Fatalities']]\n",
    "submission.to_csv('submission.csv',index=False)"
   ]
  },
  {
   "cell_type": "code",
   "execution_count": null,
   "metadata": {},
   "outputs": [],
   "source": []
  }
 ],
 "metadata": {
  "kernelspec": {
   "display_name": "Python 3",
   "language": "python",
   "name": "python3"
  },
  "language_info": {
   "codemirror_mode": {
    "name": "ipython",
    "version": 3
   },
   "file_extension": ".py",
   "mimetype": "text/x-python",
   "name": "python",
   "nbconvert_exporter": "python",
   "pygments_lexer": "ipython3",
   "version": "3.7.1"
  }
 },
 "nbformat": 4,
 "nbformat_minor": 2
}
